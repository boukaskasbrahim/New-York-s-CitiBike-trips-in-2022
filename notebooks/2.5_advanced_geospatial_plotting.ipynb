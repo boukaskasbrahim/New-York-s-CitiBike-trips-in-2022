{
 "cells": [
  {
   "cell_type": "code",
   "execution_count": 1,
   "id": "3e77e4e5",
   "metadata": {},
   "outputs": [
    {
     "name": "stderr",
     "output_type": "stream",
     "text": [
      "/opt/miniconda3/envs/citibike2022/lib/python3.10/site-packages/keplergl/keplergl.py:13: UserWarning: pkg_resources is deprecated as an API. See https://setuptools.pypa.io/en/latest/pkg_resources.html. The pkg_resources package is slated for removal as early as 2025-11-30. Refrain from using this package or pin to Setuptools<81.\n",
      "  from pkg_resources import resource_string\n"
     ]
    }
   ],
   "source": [
    "import pandas as pd\n",
    "from keplergl import KeplerGl"
   ]
  },
  {
   "cell_type": "code",
   "execution_count": 2,
   "id": "43957843",
   "metadata": {},
   "outputs": [
    {
     "name": "stdout",
     "output_type": "stream",
     "text": [
      "(895485, 17)\n"
     ]
    },
    {
     "data": {
      "text/html": [
       "<div>\n",
       "<style scoped>\n",
       "    .dataframe tbody tr th:only-of-type {\n",
       "        vertical-align: middle;\n",
       "    }\n",
       "\n",
       "    .dataframe tbody tr th {\n",
       "        vertical-align: top;\n",
       "    }\n",
       "\n",
       "    .dataframe thead th {\n",
       "        text-align: right;\n",
       "    }\n",
       "</style>\n",
       "<table border=\"1\" class=\"dataframe\">\n",
       "  <thead>\n",
       "    <tr style=\"text-align: right;\">\n",
       "      <th></th>\n",
       "      <th>ride_id</th>\n",
       "      <th>rideable_type</th>\n",
       "      <th>started_at</th>\n",
       "      <th>ended_at</th>\n",
       "      <th>start_station_name</th>\n",
       "      <th>start_station_id</th>\n",
       "      <th>end_station_name</th>\n",
       "      <th>end_station_id</th>\n",
       "      <th>start_lat</th>\n",
       "      <th>start_lng</th>\n",
       "      <th>end_lat</th>\n",
       "      <th>end_lng</th>\n",
       "      <th>member_casual</th>\n",
       "      <th>Unnamed: 0</th>\n",
       "      <th>date</th>\n",
       "      <th>avgTemp</th>\n",
       "      <th>_merge</th>\n",
       "    </tr>\n",
       "  </thead>\n",
       "  <tbody>\n",
       "    <tr>\n",
       "      <th>0</th>\n",
       "      <td>919C40A703A965D7</td>\n",
       "      <td>electric_bike</td>\n",
       "      <td>2022-04-15 15:02:20</td>\n",
       "      <td>2022-04-15 15:57:16</td>\n",
       "      <td>Pershing Field</td>\n",
       "      <td>JC024</td>\n",
       "      <td>Pershing Field</td>\n",
       "      <td>JC024</td>\n",
       "      <td>40.742677</td>\n",
       "      <td>-74.051789</td>\n",
       "      <td>40.742677</td>\n",
       "      <td>-74.051789</td>\n",
       "      <td>casual</td>\n",
       "      <td>NaN</td>\n",
       "      <td>2022-04-15</td>\n",
       "      <td>12.6</td>\n",
       "      <td>both</td>\n",
       "    </tr>\n",
       "    <tr>\n",
       "      <th>1</th>\n",
       "      <td>3B40831921DAD6C1</td>\n",
       "      <td>classic_bike</td>\n",
       "      <td>2022-04-08 10:20:55</td>\n",
       "      <td>2022-04-08 10:25:29</td>\n",
       "      <td>JC Medical Center</td>\n",
       "      <td>JC011</td>\n",
       "      <td>Grand St</td>\n",
       "      <td>JC102</td>\n",
       "      <td>40.716540</td>\n",
       "      <td>-74.049638</td>\n",
       "      <td>40.715178</td>\n",
       "      <td>-74.037683</td>\n",
       "      <td>member</td>\n",
       "      <td>NaN</td>\n",
       "      <td>2022-04-08</td>\n",
       "      <td>11.4</td>\n",
       "      <td>both</td>\n",
       "    </tr>\n",
       "    <tr>\n",
       "      <th>2</th>\n",
       "      <td>69C5C0766309F73D</td>\n",
       "      <td>electric_bike</td>\n",
       "      <td>2022-04-09 14:14:04</td>\n",
       "      <td>2022-04-09 14:18:51</td>\n",
       "      <td>Mama Johnson Field - 4 St &amp; Jackson St</td>\n",
       "      <td>HB404</td>\n",
       "      <td>Southwest Park - Jackson St &amp; Observer Hwy</td>\n",
       "      <td>HB401</td>\n",
       "      <td>40.743140</td>\n",
       "      <td>-74.040041</td>\n",
       "      <td>40.737551</td>\n",
       "      <td>-74.041664</td>\n",
       "      <td>member</td>\n",
       "      <td>NaN</td>\n",
       "      <td>2022-04-09</td>\n",
       "      <td>10.5</td>\n",
       "      <td>both</td>\n",
       "    </tr>\n",
       "  </tbody>\n",
       "</table>\n",
       "</div>"
      ],
      "text/plain": [
       "            ride_id  rideable_type           started_at             ended_at  \\\n",
       "0  919C40A703A965D7  electric_bike  2022-04-15 15:02:20  2022-04-15 15:57:16   \n",
       "1  3B40831921DAD6C1   classic_bike  2022-04-08 10:20:55  2022-04-08 10:25:29   \n",
       "2  69C5C0766309F73D  electric_bike  2022-04-09 14:14:04  2022-04-09 14:18:51   \n",
       "\n",
       "                       start_station_name start_station_id  \\\n",
       "0                          Pershing Field            JC024   \n",
       "1                       JC Medical Center            JC011   \n",
       "2  Mama Johnson Field - 4 St & Jackson St            HB404   \n",
       "\n",
       "                             end_station_name end_station_id  start_lat  \\\n",
       "0                              Pershing Field          JC024  40.742677   \n",
       "1                                    Grand St          JC102  40.716540   \n",
       "2  Southwest Park - Jackson St & Observer Hwy          HB401  40.743140   \n",
       "\n",
       "   start_lng    end_lat    end_lng member_casual  Unnamed: 0        date  \\\n",
       "0 -74.051789  40.742677 -74.051789        casual         NaN  2022-04-15   \n",
       "1 -74.049638  40.715178 -74.037683        member         NaN  2022-04-08   \n",
       "2 -74.040041  40.737551 -74.041664        member         NaN  2022-04-09   \n",
       "\n",
       "   avgTemp _merge  \n",
       "0     12.6   both  \n",
       "1     11.4   both  \n",
       "2     10.5   both  "
      ]
     },
     "execution_count": 2,
     "metadata": {},
     "output_type": "execute_result"
    }
   ],
   "source": [
    "df = pd.read_csv(\"../temp_storage/data_raw/citibike_weather_2022.csv\")\n",
    "print(df.shape)\n",
    "df.head(3)\n"
   ]
  },
  {
   "cell_type": "code",
   "execution_count": 3,
   "id": "bf0a6d95",
   "metadata": {},
   "outputs": [
    {
     "name": "stdout",
     "output_type": "stream",
     "text": [
      "User Guide: https://docs.kepler.gl/docs/keplergl-jupyter\n"
     ]
    },
    {
     "name": "stderr",
     "output_type": "stream",
     "text": [
      "/opt/miniconda3/envs/citibike2022/lib/python3.10/site-packages/jupyter_client/session.py:721: UserWarning: Message serialization failed with:\n",
      "Out of range float values are not JSON compliant\n",
      "Supporting this message is deprecated in jupyter-client 7, please make sure your message is JSON-compliant\n",
      "  content = self.pack(content)\n"
     ]
    },
    {
     "data": {
      "application/vnd.jupyter.widget-view+json": {
       "model_id": "7bad73c521ad4cbc90e3b12543e9e4c3",
       "version_major": 2,
       "version_minor": 0
      },
      "text/plain": [
       "KeplerGl(data={'CitiBike 2022': {'index': [0, 1, 2, 3, 4, 5, 6, 7, 8, 9, 10, 11, 12, 13, 14, 15, 16, 17, 18, 1…"
      ]
     },
     "execution_count": 3,
     "metadata": {},
     "output_type": "execute_result"
    }
   ],
   "source": [
    "# Initialize Kepler map\n",
    "map_1 = KeplerGl(height=600)\n",
    "\n",
    "# Add the CitiBike dataframe to the map\n",
    "map_1.add_data(data=df, name=\"CitiBike 2022\")\n",
    "\n",
    "# Display it\n",
    "map_1\n"
   ]
  },
  {
   "cell_type": "code",
   "execution_count": 4,
   "id": "917a47fc",
   "metadata": {},
   "outputs": [
    {
     "data": {
      "text/plain": [
       "['ride_id',\n",
       " 'rideable_type',\n",
       " 'started_at',\n",
       " 'ended_at',\n",
       " 'start_station_name',\n",
       " 'start_station_id',\n",
       " 'end_station_name',\n",
       " 'end_station_id',\n",
       " 'start_lat',\n",
       " 'start_lng',\n",
       " 'end_lat',\n",
       " 'end_lng',\n",
       " 'member_casual',\n",
       " 'Unnamed: 0',\n",
       " 'date',\n",
       " 'avgTemp',\n",
       " '_merge']"
      ]
     },
     "execution_count": 4,
     "metadata": {},
     "output_type": "execute_result"
    }
   ],
   "source": [
    "df.columns.tolist()\n"
   ]
  },
  {
   "cell_type": "code",
   "execution_count": 5,
   "id": "2cfa24a3",
   "metadata": {},
   "outputs": [
    {
     "data": {
      "text/html": [
       "<div>\n",
       "<style scoped>\n",
       "    .dataframe tbody tr th:only-of-type {\n",
       "        vertical-align: middle;\n",
       "    }\n",
       "\n",
       "    .dataframe tbody tr th {\n",
       "        vertical-align: top;\n",
       "    }\n",
       "\n",
       "    .dataframe thead th {\n",
       "        text-align: right;\n",
       "    }\n",
       "</style>\n",
       "<table border=\"1\" class=\"dataframe\">\n",
       "  <thead>\n",
       "    <tr style=\"text-align: right;\">\n",
       "      <th></th>\n",
       "      <th>start_lat</th>\n",
       "      <th>start_lng</th>\n",
       "      <th>end_lat</th>\n",
       "      <th>end_lng</th>\n",
       "      <th>member_casual</th>\n",
       "    </tr>\n",
       "  </thead>\n",
       "  <tbody>\n",
       "    <tr>\n",
       "      <th>603141</th>\n",
       "      <td>40.717752</td>\n",
       "      <td>-74.043856</td>\n",
       "      <td>40.722104</td>\n",
       "      <td>-74.071455</td>\n",
       "      <td>member</td>\n",
       "    </tr>\n",
       "    <tr>\n",
       "      <th>336703</th>\n",
       "      <td>40.746503</td>\n",
       "      <td>-74.038114</td>\n",
       "      <td>40.750604</td>\n",
       "      <td>-74.024020</td>\n",
       "      <td>casual</td>\n",
       "    </tr>\n",
       "    <tr>\n",
       "      <th>793991</th>\n",
       "      <td>40.749943</td>\n",
       "      <td>-74.035865</td>\n",
       "      <td>40.754090</td>\n",
       "      <td>-74.031600</td>\n",
       "      <td>member</td>\n",
       "    </tr>\n",
       "    <tr>\n",
       "      <th>767329</th>\n",
       "      <td>40.716843</td>\n",
       "      <td>-74.032879</td>\n",
       "      <td>40.721124</td>\n",
       "      <td>-74.038051</td>\n",
       "      <td>member</td>\n",
       "    </tr>\n",
       "    <tr>\n",
       "      <th>748057</th>\n",
       "      <td>40.718089</td>\n",
       "      <td>-74.083355</td>\n",
       "      <td>40.718211</td>\n",
       "      <td>-74.083639</td>\n",
       "      <td>casual</td>\n",
       "    </tr>\n",
       "  </tbody>\n",
       "</table>\n",
       "</div>"
      ],
      "text/plain": [
       "        start_lat  start_lng    end_lat    end_lng member_casual\n",
       "603141  40.717752 -74.043856  40.722104 -74.071455        member\n",
       "336703  40.746503 -74.038114  40.750604 -74.024020        casual\n",
       "793991  40.749943 -74.035865  40.754090 -74.031600        member\n",
       "767329  40.716843 -74.032879  40.721124 -74.038051        member\n",
       "748057  40.718089 -74.083355  40.718211 -74.083639        casual"
      ]
     },
     "execution_count": 5,
     "metadata": {},
     "output_type": "execute_result"
    }
   ],
   "source": [
    "# Keep only relevant columns for mapping\n",
    "df_map = df[[\"start_lat\", \"start_lng\", \"end_lat\", \"end_lng\", \"member_casual\"]].dropna()\n",
    "\n",
    "# Optional: sample smaller subset (for faster performance)\n",
    "df_map = df_map.sample(n=5000, random_state=42)\n",
    "\n",
    "df_map.head()\n"
   ]
  },
  {
   "cell_type": "code",
   "execution_count": 6,
   "id": "b2b09bc7",
   "metadata": {},
   "outputs": [
    {
     "name": "stdout",
     "output_type": "stream",
     "text": [
      "User Guide: https://docs.kepler.gl/docs/keplergl-jupyter\n"
     ]
    },
    {
     "data": {
      "application/vnd.jupyter.widget-view+json": {
       "model_id": "c24baee5b6e741ce9b1a9abf1e7f2552",
       "version_major": 2,
       "version_minor": 0
      },
      "text/plain": [
       "KeplerGl(data={'CitiBike Routes 2022': {'index': [603141, 336703, 793991, 767329, 748057, 628046, 387568, 4781…"
      ]
     },
     "execution_count": 6,
     "metadata": {},
     "output_type": "execute_result"
    }
   ],
   "source": [
    "# Initialize Kepler map\n",
    "map_2 = KeplerGl(height=600)\n",
    "\n",
    "# Add reduced CitiBike dataset\n",
    "map_2.add_data(data=df_map, name=\"CitiBike Routes 2022\")\n",
    "\n",
    "# Show map\n",
    "map_2\n"
   ]
  },
  {
   "cell_type": "code",
   "execution_count": 7,
   "id": "faa075eb",
   "metadata": {},
   "outputs": [
    {
     "name": "stdout",
     "output_type": "stream",
     "text": [
      "Map saved to ../temp_storage/citibike_routes_map.html!\n"
     ]
    }
   ],
   "source": [
    "# Export the map to an interactive HTML file\n",
    "map_2.save_to_html(file_name=\"../temp_storage/citibike_routes_map.html\")\n"
   ]
  },
  {
   "cell_type": "code",
   "execution_count": 8,
   "id": "a771a208",
   "metadata": {},
   "outputs": [
    {
     "name": "stdout",
     "output_type": "stream",
     "text": [
      "User Guide: https://docs.kepler.gl/docs/keplergl-jupyter\n"
     ]
    },
    {
     "data": {
      "application/vnd.jupyter.widget-view+json": {
       "model_id": "acde120f470949cebf47c3d1c335f597",
       "version_major": 2,
       "version_minor": 0
      },
      "text/plain": [
       "KeplerGl(data={'Members Only': {'index': [603141, 793991, 767329, 387568, 489555, 404754, 245952, 392009, 5699…"
      ]
     },
     "execution_count": 8,
     "metadata": {},
     "output_type": "execute_result"
    }
   ],
   "source": [
    "df_members = df_map[df_map[\"member_casual\"] == \"member\"]\n",
    "\n",
    "map_3 = KeplerGl(height=600)\n",
    "map_3.add_data(data=df_members, name=\"Members Only\")\n",
    "map_3\n"
   ]
  },
  {
   "cell_type": "code",
   "execution_count": null,
   "id": "6661dd16",
   "metadata": {},
   "outputs": [],
   "source": []
  }
 ],
 "metadata": {
  "kernelspec": {
   "display_name": "citibike2022",
   "language": "python",
   "name": "python3"
  },
  "language_info": {
   "codemirror_mode": {
    "name": "ipython",
    "version": 3
   },
   "file_extension": ".py",
   "mimetype": "text/x-python",
   "name": "python",
   "nbconvert_exporter": "python",
   "pygments_lexer": "ipython3",
   "version": "3.10.19"
  }
 },
 "nbformat": 4,
 "nbformat_minor": 5
}
