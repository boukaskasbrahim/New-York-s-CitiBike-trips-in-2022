{
 "cells": [
  {
   "cell_type": "markdown",
   "id": "6cf68d0e",
   "metadata": {},
   "source": [
    "## Exercise 2.5 – Advanced Geospatial Plotting\n",
    "\n",
    "In this exercise, I explored geospatial visualization using **Kepler.gl** with the New York CitiBike 2022 dataset.  \n",
    "The goal was to map bike trips across the city, understand route density, and identify areas of high activity.  \n",
    "I used the dataset created in the previous exercise, which combines CitiBike trip data with weather data from NOAA.\n"
   ]
  },
  {
   "cell_type": "code",
   "execution_count": 2,
   "id": "3e77e4e5",
   "metadata": {},
   "outputs": [],
   "source": [
    "import pandas as pd\n",
    "from keplergl import KeplerGl\n"
   ]
  },
  {
   "cell_type": "code",
   "execution_count": 3,
   "id": "ef245b27",
   "metadata": {},
   "outputs": [
    {
     "name": "stdout",
     "output_type": "stream",
     "text": [
      "(895485, 17)\n"
     ]
    },
    {
     "data": {
      "text/html": [
       "<div>\n",
       "<style scoped>\n",
       "    .dataframe tbody tr th:only-of-type {\n",
       "        vertical-align: middle;\n",
       "    }\n",
       "\n",
       "    .dataframe tbody tr th {\n",
       "        vertical-align: top;\n",
       "    }\n",
       "\n",
       "    .dataframe thead th {\n",
       "        text-align: right;\n",
       "    }\n",
       "</style>\n",
       "<table border=\"1\" class=\"dataframe\">\n",
       "  <thead>\n",
       "    <tr style=\"text-align: right;\">\n",
       "      <th></th>\n",
       "      <th>ride_id</th>\n",
       "      <th>rideable_type</th>\n",
       "      <th>started_at</th>\n",
       "      <th>ended_at</th>\n",
       "      <th>start_station_name</th>\n",
       "      <th>start_station_id</th>\n",
       "      <th>end_station_name</th>\n",
       "      <th>end_station_id</th>\n",
       "      <th>start_lat</th>\n",
       "      <th>start_lng</th>\n",
       "      <th>end_lat</th>\n",
       "      <th>end_lng</th>\n",
       "      <th>member_casual</th>\n",
       "      <th>Unnamed: 0</th>\n",
       "      <th>date</th>\n",
       "      <th>avgTemp</th>\n",
       "      <th>_merge</th>\n",
       "      <th>trip_count</th>\n",
       "    </tr>\n",
       "  </thead>\n",
       "  <tbody>\n",
       "    <tr>\n",
       "      <th>0</th>\n",
       "      <td>919C40A703A965D7</td>\n",
       "      <td>electric_bike</td>\n",
       "      <td>2022-04-15 15:02:20</td>\n",
       "      <td>2022-04-15 15:57:16</td>\n",
       "      <td>Pershing Field</td>\n",
       "      <td>JC024</td>\n",
       "      <td>Pershing Field</td>\n",
       "      <td>JC024</td>\n",
       "      <td>40.742677</td>\n",
       "      <td>-74.051789</td>\n",
       "      <td>40.742677</td>\n",
       "      <td>-74.051789</td>\n",
       "      <td>casual</td>\n",
       "      <td>NaN</td>\n",
       "      <td>2022-04-15</td>\n",
       "      <td>12.6</td>\n",
       "      <td>both</td>\n",
       "      <td>1</td>\n",
       "    </tr>\n",
       "    <tr>\n",
       "      <th>1</th>\n",
       "      <td>3B40831921DAD6C1</td>\n",
       "      <td>classic_bike</td>\n",
       "      <td>2022-04-08 10:20:55</td>\n",
       "      <td>2022-04-08 10:25:29</td>\n",
       "      <td>JC Medical Center</td>\n",
       "      <td>JC011</td>\n",
       "      <td>Grand St</td>\n",
       "      <td>JC102</td>\n",
       "      <td>40.716540</td>\n",
       "      <td>-74.049638</td>\n",
       "      <td>40.715178</td>\n",
       "      <td>-74.037683</td>\n",
       "      <td>member</td>\n",
       "      <td>NaN</td>\n",
       "      <td>2022-04-08</td>\n",
       "      <td>11.4</td>\n",
       "      <td>both</td>\n",
       "      <td>1</td>\n",
       "    </tr>\n",
       "    <tr>\n",
       "      <th>2</th>\n",
       "      <td>69C5C0766309F73D</td>\n",
       "      <td>electric_bike</td>\n",
       "      <td>2022-04-09 14:14:04</td>\n",
       "      <td>2022-04-09 14:18:51</td>\n",
       "      <td>Mama Johnson Field - 4 St &amp; Jackson St</td>\n",
       "      <td>HB404</td>\n",
       "      <td>Southwest Park - Jackson St &amp; Observer Hwy</td>\n",
       "      <td>HB401</td>\n",
       "      <td>40.743140</td>\n",
       "      <td>-74.040041</td>\n",
       "      <td>40.737551</td>\n",
       "      <td>-74.041664</td>\n",
       "      <td>member</td>\n",
       "      <td>NaN</td>\n",
       "      <td>2022-04-09</td>\n",
       "      <td>10.5</td>\n",
       "      <td>both</td>\n",
       "      <td>1</td>\n",
       "    </tr>\n",
       "  </tbody>\n",
       "</table>\n",
       "</div>"
      ],
      "text/plain": [
       "            ride_id  rideable_type           started_at             ended_at  \\\n",
       "0  919C40A703A965D7  electric_bike  2022-04-15 15:02:20  2022-04-15 15:57:16   \n",
       "1  3B40831921DAD6C1   classic_bike  2022-04-08 10:20:55  2022-04-08 10:25:29   \n",
       "2  69C5C0766309F73D  electric_bike  2022-04-09 14:14:04  2022-04-09 14:18:51   \n",
       "\n",
       "                       start_station_name start_station_id  \\\n",
       "0                          Pershing Field            JC024   \n",
       "1                       JC Medical Center            JC011   \n",
       "2  Mama Johnson Field - 4 St & Jackson St            HB404   \n",
       "\n",
       "                             end_station_name end_station_id  start_lat  \\\n",
       "0                              Pershing Field          JC024  40.742677   \n",
       "1                                    Grand St          JC102  40.716540   \n",
       "2  Southwest Park - Jackson St & Observer Hwy          HB401  40.743140   \n",
       "\n",
       "   start_lng    end_lat    end_lng member_casual  Unnamed: 0        date  \\\n",
       "0 -74.051789  40.742677 -74.051789        casual         NaN  2022-04-15   \n",
       "1 -74.049638  40.715178 -74.037683        member         NaN  2022-04-08   \n",
       "2 -74.040041  40.737551 -74.041664        member         NaN  2022-04-09   \n",
       "\n",
       "   avgTemp _merge  trip_count  \n",
       "0     12.6   both           1  \n",
       "1     11.4   both           1  \n",
       "2     10.5   both           1  "
      ]
     },
     "execution_count": 3,
     "metadata": {},
     "output_type": "execute_result"
    }
   ],
   "source": [
    "import pandas as pd\n",
    "\n",
    "# Load the merged CitiBike + weather dataset\n",
    "df = pd.read_csv(\"../temp_storage/data_raw/citibike_weather_2022.csv\")\n",
    "\n",
    "print(df.shape)\n",
    "df.head(3)\n",
    "# Add a column representing each trip\n",
    "df[\"trip_count\"] = 1\n",
    "df.head(3)\n"
   ]
  },
  {
   "cell_type": "code",
   "execution_count": 4,
   "id": "9e3af2fa",
   "metadata": {},
   "outputs": [
    {
     "data": {
      "text/plain": [
       "['ride_id',\n",
       " 'rideable_type',\n",
       " 'started_at',\n",
       " 'ended_at',\n",
       " 'start_station_name',\n",
       " 'start_station_id',\n",
       " 'end_station_name',\n",
       " 'end_station_id',\n",
       " 'start_lat',\n",
       " 'start_lng',\n",
       " 'end_lat',\n",
       " 'end_lng',\n",
       " 'member_casual',\n",
       " 'Unnamed: 0',\n",
       " 'date',\n",
       " 'avgTemp',\n",
       " '_merge',\n",
       " 'trip_count']"
      ]
     },
     "execution_count": 4,
     "metadata": {},
     "output_type": "execute_result"
    }
   ],
   "source": [
    "df.columns.tolist()\n"
   ]
  },
  {
   "cell_type": "code",
   "execution_count": 5,
   "id": "35284b41",
   "metadata": {},
   "outputs": [
    {
     "data": {
      "text/html": [
       "<div>\n",
       "<style scoped>\n",
       "    .dataframe tbody tr th:only-of-type {\n",
       "        vertical-align: middle;\n",
       "    }\n",
       "\n",
       "    .dataframe tbody tr th {\n",
       "        vertical-align: top;\n",
       "    }\n",
       "\n",
       "    .dataframe thead th {\n",
       "        text-align: right;\n",
       "    }\n",
       "</style>\n",
       "<table border=\"1\" class=\"dataframe\">\n",
       "  <thead>\n",
       "    <tr style=\"text-align: right;\">\n",
       "      <th></th>\n",
       "      <th>ride_id</th>\n",
       "      <th>rideable_type</th>\n",
       "      <th>started_at</th>\n",
       "      <th>ended_at</th>\n",
       "      <th>start_station_name</th>\n",
       "      <th>start_station_id</th>\n",
       "      <th>end_station_name</th>\n",
       "      <th>end_station_id</th>\n",
       "      <th>start_lat</th>\n",
       "      <th>start_lng</th>\n",
       "      <th>end_lat</th>\n",
       "      <th>end_lng</th>\n",
       "      <th>member_casual</th>\n",
       "      <th>Unnamed: 0</th>\n",
       "      <th>date</th>\n",
       "      <th>avgTemp</th>\n",
       "      <th>_merge</th>\n",
       "      <th>trip_count</th>\n",
       "    </tr>\n",
       "  </thead>\n",
       "  <tbody>\n",
       "    <tr>\n",
       "      <th>0</th>\n",
       "      <td>919C40A703A965D7</td>\n",
       "      <td>electric_bike</td>\n",
       "      <td>2022-04-15 15:02:20</td>\n",
       "      <td>2022-04-15 15:57:16</td>\n",
       "      <td>Pershing Field</td>\n",
       "      <td>JC024</td>\n",
       "      <td>Pershing Field</td>\n",
       "      <td>JC024</td>\n",
       "      <td>40.742677</td>\n",
       "      <td>-74.051789</td>\n",
       "      <td>40.742677</td>\n",
       "      <td>-74.051789</td>\n",
       "      <td>casual</td>\n",
       "      <td>NaN</td>\n",
       "      <td>2022-04-15</td>\n",
       "      <td>12.6</td>\n",
       "      <td>both</td>\n",
       "      <td>1</td>\n",
       "    </tr>\n",
       "    <tr>\n",
       "      <th>1</th>\n",
       "      <td>3B40831921DAD6C1</td>\n",
       "      <td>classic_bike</td>\n",
       "      <td>2022-04-08 10:20:55</td>\n",
       "      <td>2022-04-08 10:25:29</td>\n",
       "      <td>JC Medical Center</td>\n",
       "      <td>JC011</td>\n",
       "      <td>Grand St</td>\n",
       "      <td>JC102</td>\n",
       "      <td>40.716540</td>\n",
       "      <td>-74.049638</td>\n",
       "      <td>40.715178</td>\n",
       "      <td>-74.037683</td>\n",
       "      <td>member</td>\n",
       "      <td>NaN</td>\n",
       "      <td>2022-04-08</td>\n",
       "      <td>11.4</td>\n",
       "      <td>both</td>\n",
       "      <td>1</td>\n",
       "    </tr>\n",
       "    <tr>\n",
       "      <th>2</th>\n",
       "      <td>69C5C0766309F73D</td>\n",
       "      <td>electric_bike</td>\n",
       "      <td>2022-04-09 14:14:04</td>\n",
       "      <td>2022-04-09 14:18:51</td>\n",
       "      <td>Mama Johnson Field - 4 St &amp; Jackson St</td>\n",
       "      <td>HB404</td>\n",
       "      <td>Southwest Park - Jackson St &amp; Observer Hwy</td>\n",
       "      <td>HB401</td>\n",
       "      <td>40.743140</td>\n",
       "      <td>-74.040041</td>\n",
       "      <td>40.737551</td>\n",
       "      <td>-74.041664</td>\n",
       "      <td>member</td>\n",
       "      <td>NaN</td>\n",
       "      <td>2022-04-09</td>\n",
       "      <td>10.5</td>\n",
       "      <td>both</td>\n",
       "      <td>1</td>\n",
       "    </tr>\n",
       "  </tbody>\n",
       "</table>\n",
       "</div>"
      ],
      "text/plain": [
       "            ride_id  rideable_type           started_at             ended_at  \\\n",
       "0  919C40A703A965D7  electric_bike  2022-04-15 15:02:20  2022-04-15 15:57:16   \n",
       "1  3B40831921DAD6C1   classic_bike  2022-04-08 10:20:55  2022-04-08 10:25:29   \n",
       "2  69C5C0766309F73D  electric_bike  2022-04-09 14:14:04  2022-04-09 14:18:51   \n",
       "\n",
       "                       start_station_name start_station_id  \\\n",
       "0                          Pershing Field            JC024   \n",
       "1                       JC Medical Center            JC011   \n",
       "2  Mama Johnson Field - 4 St & Jackson St            HB404   \n",
       "\n",
       "                             end_station_name end_station_id  start_lat  \\\n",
       "0                              Pershing Field          JC024  40.742677   \n",
       "1                                    Grand St          JC102  40.716540   \n",
       "2  Southwest Park - Jackson St & Observer Hwy          HB401  40.743140   \n",
       "\n",
       "   start_lng    end_lat    end_lng member_casual  Unnamed: 0        date  \\\n",
       "0 -74.051789  40.742677 -74.051789        casual         NaN  2022-04-15   \n",
       "1 -74.049638  40.715178 -74.037683        member         NaN  2022-04-08   \n",
       "2 -74.040041  40.737551 -74.041664        member         NaN  2022-04-09   \n",
       "\n",
       "   avgTemp _merge  trip_count  \n",
       "0     12.6   both           1  \n",
       "1     11.4   both           1  \n",
       "2     10.5   both           1  "
      ]
     },
     "execution_count": 5,
     "metadata": {},
     "output_type": "execute_result"
    }
   ],
   "source": [
    "# Each row represents one trip, so assign a count of 1\n",
    "df[\"trip_count\"] = 1\n",
    "\n",
    "# Confirm the column was added\n",
    "df.head(3)\n"
   ]
  },
  {
   "cell_type": "code",
   "execution_count": 6,
   "id": "30d975dd",
   "metadata": {},
   "outputs": [
    {
     "name": "stdout",
     "output_type": "stream",
     "text": [
      "(6953, 3)\n"
     ]
    },
    {
     "data": {
      "text/html": [
       "<div>\n",
       "<style scoped>\n",
       "    .dataframe tbody tr th:only-of-type {\n",
       "        vertical-align: middle;\n",
       "    }\n",
       "\n",
       "    .dataframe tbody tr th {\n",
       "        vertical-align: top;\n",
       "    }\n",
       "\n",
       "    .dataframe thead th {\n",
       "        text-align: right;\n",
       "    }\n",
       "</style>\n",
       "<table border=\"1\" class=\"dataframe\">\n",
       "  <thead>\n",
       "    <tr style=\"text-align: right;\">\n",
       "      <th></th>\n",
       "      <th>start_station_name</th>\n",
       "      <th>end_station_name</th>\n",
       "      <th>trip_count</th>\n",
       "    </tr>\n",
       "  </thead>\n",
       "  <tbody>\n",
       "    <tr>\n",
       "      <th>3657</th>\n",
       "      <td>Hoboken Terminal - Hudson St &amp; Hudson Pl</td>\n",
       "      <td>Hoboken Ave at Monmouth St</td>\n",
       "      <td>5565</td>\n",
       "    </tr>\n",
       "    <tr>\n",
       "      <th>6290</th>\n",
       "      <td>South Waterfront Walkway - Sinatra Dr &amp; 1 St</td>\n",
       "      <td>South Waterfront Walkway - Sinatra Dr &amp; 1 St</td>\n",
       "      <td>5439</td>\n",
       "    </tr>\n",
       "    <tr>\n",
       "      <th>4976</th>\n",
       "      <td>Marin Light Rail</td>\n",
       "      <td>Grove St PATH</td>\n",
       "      <td>4113</td>\n",
       "    </tr>\n",
       "    <tr>\n",
       "      <th>3574</th>\n",
       "      <td>Hoboken Ave at Monmouth St</td>\n",
       "      <td>Hoboken Terminal - Hudson St &amp; Hudson Pl</td>\n",
       "      <td>4083</td>\n",
       "    </tr>\n",
       "    <tr>\n",
       "      <th>3135</th>\n",
       "      <td>Grove St PATH</td>\n",
       "      <td>Marin Light Rail</td>\n",
       "      <td>3973</td>\n",
       "    </tr>\n",
       "    <tr>\n",
       "      <th>181</th>\n",
       "      <td>12 St &amp; Sinatra Dr N</td>\n",
       "      <td>South Waterfront Walkway - Sinatra Dr &amp; 1 St</td>\n",
       "      <td>3964</td>\n",
       "    </tr>\n",
       "    <tr>\n",
       "      <th>4503</th>\n",
       "      <td>Liberty Light Rail</td>\n",
       "      <td>Liberty Light Rail</td>\n",
       "      <td>3696</td>\n",
       "    </tr>\n",
       "    <tr>\n",
       "      <th>6211</th>\n",
       "      <td>South Waterfront Walkway - Sinatra Dr &amp; 1 St</td>\n",
       "      <td>12 St &amp; Sinatra Dr N</td>\n",
       "      <td>3495</td>\n",
       "    </tr>\n",
       "    <tr>\n",
       "      <th>3201</th>\n",
       "      <td>Hamilton Park</td>\n",
       "      <td>Grove St PATH</td>\n",
       "      <td>3203</td>\n",
       "    </tr>\n",
       "    <tr>\n",
       "      <th>5722</th>\n",
       "      <td>Newport Pkwy</td>\n",
       "      <td>Newport Pkwy</td>\n",
       "      <td>3131</td>\n",
       "    </tr>\n",
       "  </tbody>\n",
       "</table>\n",
       "</div>"
      ],
      "text/plain": [
       "                                start_station_name  \\\n",
       "3657      Hoboken Terminal - Hudson St & Hudson Pl   \n",
       "6290  South Waterfront Walkway - Sinatra Dr & 1 St   \n",
       "4976                              Marin Light Rail   \n",
       "3574                    Hoboken Ave at Monmouth St   \n",
       "3135                                 Grove St PATH   \n",
       "181                           12 St & Sinatra Dr N   \n",
       "4503                            Liberty Light Rail   \n",
       "6211  South Waterfront Walkway - Sinatra Dr & 1 St   \n",
       "3201                                 Hamilton Park   \n",
       "5722                                  Newport Pkwy   \n",
       "\n",
       "                                  end_station_name  trip_count  \n",
       "3657                    Hoboken Ave at Monmouth St        5565  \n",
       "6290  South Waterfront Walkway - Sinatra Dr & 1 St        5439  \n",
       "4976                                 Grove St PATH        4113  \n",
       "3574      Hoboken Terminal - Hudson St & Hudson Pl        4083  \n",
       "3135                              Marin Light Rail        3973  \n",
       "181   South Waterfront Walkway - Sinatra Dr & 1 St        3964  \n",
       "4503                            Liberty Light Rail        3696  \n",
       "6211                          12 St & Sinatra Dr N        3495  \n",
       "3201                                 Grove St PATH        3203  \n",
       "5722                                  Newport Pkwy        3131  "
      ]
     },
     "execution_count": 6,
     "metadata": {},
     "output_type": "execute_result"
    }
   ],
   "source": [
    "# Aggregate total trips between start and end stations\n",
    "df_agg = (\n",
    "    df.groupby([\"start_station_name\", \"end_station_name\"])\n",
    "    .agg({\"trip_count\": \"sum\"})\n",
    "    .reset_index()\n",
    "    .sort_values(\"trip_count\", ascending=False)\n",
    ")\n",
    "\n",
    "print(df_agg.shape)\n",
    "df_agg.head(10)\n"
   ]
  },
  {
   "cell_type": "code",
   "execution_count": 7,
   "id": "43957843",
   "metadata": {},
   "outputs": [
    {
     "name": "stdout",
     "output_type": "stream",
     "text": [
      "(895485, 17)\n"
     ]
    },
    {
     "data": {
      "text/html": [
       "<div>\n",
       "<style scoped>\n",
       "    .dataframe tbody tr th:only-of-type {\n",
       "        vertical-align: middle;\n",
       "    }\n",
       "\n",
       "    .dataframe tbody tr th {\n",
       "        vertical-align: top;\n",
       "    }\n",
       "\n",
       "    .dataframe thead th {\n",
       "        text-align: right;\n",
       "    }\n",
       "</style>\n",
       "<table border=\"1\" class=\"dataframe\">\n",
       "  <thead>\n",
       "    <tr style=\"text-align: right;\">\n",
       "      <th></th>\n",
       "      <th>ride_id</th>\n",
       "      <th>rideable_type</th>\n",
       "      <th>started_at</th>\n",
       "      <th>ended_at</th>\n",
       "      <th>start_station_name</th>\n",
       "      <th>start_station_id</th>\n",
       "      <th>end_station_name</th>\n",
       "      <th>end_station_id</th>\n",
       "      <th>start_lat</th>\n",
       "      <th>start_lng</th>\n",
       "      <th>end_lat</th>\n",
       "      <th>end_lng</th>\n",
       "      <th>member_casual</th>\n",
       "      <th>Unnamed: 0</th>\n",
       "      <th>date</th>\n",
       "      <th>avgTemp</th>\n",
       "      <th>_merge</th>\n",
       "    </tr>\n",
       "  </thead>\n",
       "  <tbody>\n",
       "    <tr>\n",
       "      <th>0</th>\n",
       "      <td>919C40A703A965D7</td>\n",
       "      <td>electric_bike</td>\n",
       "      <td>2022-04-15 15:02:20</td>\n",
       "      <td>2022-04-15 15:57:16</td>\n",
       "      <td>Pershing Field</td>\n",
       "      <td>JC024</td>\n",
       "      <td>Pershing Field</td>\n",
       "      <td>JC024</td>\n",
       "      <td>40.742677</td>\n",
       "      <td>-74.051789</td>\n",
       "      <td>40.742677</td>\n",
       "      <td>-74.051789</td>\n",
       "      <td>casual</td>\n",
       "      <td>NaN</td>\n",
       "      <td>2022-04-15</td>\n",
       "      <td>12.6</td>\n",
       "      <td>both</td>\n",
       "    </tr>\n",
       "    <tr>\n",
       "      <th>1</th>\n",
       "      <td>3B40831921DAD6C1</td>\n",
       "      <td>classic_bike</td>\n",
       "      <td>2022-04-08 10:20:55</td>\n",
       "      <td>2022-04-08 10:25:29</td>\n",
       "      <td>JC Medical Center</td>\n",
       "      <td>JC011</td>\n",
       "      <td>Grand St</td>\n",
       "      <td>JC102</td>\n",
       "      <td>40.716540</td>\n",
       "      <td>-74.049638</td>\n",
       "      <td>40.715178</td>\n",
       "      <td>-74.037683</td>\n",
       "      <td>member</td>\n",
       "      <td>NaN</td>\n",
       "      <td>2022-04-08</td>\n",
       "      <td>11.4</td>\n",
       "      <td>both</td>\n",
       "    </tr>\n",
       "    <tr>\n",
       "      <th>2</th>\n",
       "      <td>69C5C0766309F73D</td>\n",
       "      <td>electric_bike</td>\n",
       "      <td>2022-04-09 14:14:04</td>\n",
       "      <td>2022-04-09 14:18:51</td>\n",
       "      <td>Mama Johnson Field - 4 St &amp; Jackson St</td>\n",
       "      <td>HB404</td>\n",
       "      <td>Southwest Park - Jackson St &amp; Observer Hwy</td>\n",
       "      <td>HB401</td>\n",
       "      <td>40.743140</td>\n",
       "      <td>-74.040041</td>\n",
       "      <td>40.737551</td>\n",
       "      <td>-74.041664</td>\n",
       "      <td>member</td>\n",
       "      <td>NaN</td>\n",
       "      <td>2022-04-09</td>\n",
       "      <td>10.5</td>\n",
       "      <td>both</td>\n",
       "    </tr>\n",
       "  </tbody>\n",
       "</table>\n",
       "</div>"
      ],
      "text/plain": [
       "            ride_id  rideable_type           started_at             ended_at  \\\n",
       "0  919C40A703A965D7  electric_bike  2022-04-15 15:02:20  2022-04-15 15:57:16   \n",
       "1  3B40831921DAD6C1   classic_bike  2022-04-08 10:20:55  2022-04-08 10:25:29   \n",
       "2  69C5C0766309F73D  electric_bike  2022-04-09 14:14:04  2022-04-09 14:18:51   \n",
       "\n",
       "                       start_station_name start_station_id  \\\n",
       "0                          Pershing Field            JC024   \n",
       "1                       JC Medical Center            JC011   \n",
       "2  Mama Johnson Field - 4 St & Jackson St            HB404   \n",
       "\n",
       "                             end_station_name end_station_id  start_lat  \\\n",
       "0                              Pershing Field          JC024  40.742677   \n",
       "1                                    Grand St          JC102  40.716540   \n",
       "2  Southwest Park - Jackson St & Observer Hwy          HB401  40.743140   \n",
       "\n",
       "   start_lng    end_lat    end_lng member_casual  Unnamed: 0        date  \\\n",
       "0 -74.051789  40.742677 -74.051789        casual         NaN  2022-04-15   \n",
       "1 -74.049638  40.715178 -74.037683        member         NaN  2022-04-08   \n",
       "2 -74.040041  40.737551 -74.041664        member         NaN  2022-04-09   \n",
       "\n",
       "   avgTemp _merge  \n",
       "0     12.6   both  \n",
       "1     11.4   both  \n",
       "2     10.5   both  "
      ]
     },
     "execution_count": 7,
     "metadata": {},
     "output_type": "execute_result"
    }
   ],
   "source": [
    "df = pd.read_csv(\"../temp_storage/data_raw/citibike_weather_2022.csv\")\n",
    "print(df.shape)\n",
    "df.head(3)\n"
   ]
  },
  {
   "cell_type": "code",
   "execution_count": 8,
   "id": "bf0a6d95",
   "metadata": {},
   "outputs": [
    {
     "name": "stdout",
     "output_type": "stream",
     "text": [
      "User Guide: https://docs.kepler.gl/docs/keplergl-jupyter\n"
     ]
    },
    {
     "name": "stderr",
     "output_type": "stream",
     "text": [
      "/opt/miniconda3/envs/citibike2022/lib/python3.10/site-packages/jupyter_client/session.py:721: UserWarning: Message serialization failed with:\n",
      "Out of range float values are not JSON compliant\n",
      "Supporting this message is deprecated in jupyter-client 7, please make sure your message is JSON-compliant\n",
      "  content = self.pack(content)\n"
     ]
    },
    {
     "data": {
      "application/vnd.jupyter.widget-view+json": {
       "model_id": "5b54422fc3494816800dc3c27b55928a",
       "version_major": 2,
       "version_minor": 0
      },
      "text/plain": [
       "KeplerGl(data={'CitiBike 2022': {'index': [0, 1, 2, 3, 4, 5, 6, 7, 8, 9, 10, 11, 12, 13, 14, 15, 16, 17, 18, 1…"
      ]
     },
     "execution_count": 8,
     "metadata": {},
     "output_type": "execute_result"
    }
   ],
   "source": [
    "\n",
    "import pandas as pd\n",
    "from keplergl import KeplerGl\n",
    "\n",
    "# Initialize Kepler map\n",
    "map_1 = KeplerGl(height=600)\n",
    "\n",
    "# Add the CitiBike dataframe to the map\n",
    "map_1.add_data(data=df, name=\"CitiBike 2022\")\n",
    "\n",
    "# Display it\n",
    "map_1\n"
   ]
  },
  {
   "cell_type": "code",
   "execution_count": 12,
   "id": "7e0415d2",
   "metadata": {},
   "outputs": [
    {
     "name": "stdout",
     "output_type": "stream",
     "text": [
      "done\n"
     ]
    }
   ],
   "source": [
    "import json\n",
    "\n",
    "# Save Kepler.gl configuration inside the notebooks folder\n",
    "with open(\"config.json\", \"w\") as f:\n",
    "    json.dump(map_1.config, f)\n",
    "\n",
    "print(\"done\")\n"
   ]
  },
  {
   "cell_type": "code",
   "execution_count": 13,
   "id": "385aba66",
   "metadata": {},
   "outputs": [
    {
     "data": {
      "text/plain": [
       "['st_dashboard.py',\n",
       " '2.4_fundamentals_of_visualization_libraries_part2.ipynb',\n",
       " 'config.json',\n",
       " '2.6_creating_dashboards_with_python.ipynb',\n",
       " '2.2_citibike_weather_merge.ipynb',\n",
       " '2.3_fundamentals_of_visualization_libraries.ipynb',\n",
       " '2.5_advanced_geospatial_plotting.ipynb']"
      ]
     },
     "execution_count": 13,
     "metadata": {},
     "output_type": "execute_result"
    }
   ],
   "source": [
    "import os\n",
    "os.listdir()\n"
   ]
  },
  {
   "cell_type": "code",
   "execution_count": 17,
   "id": "917a47fc",
   "metadata": {},
   "outputs": [
    {
     "data": {
      "text/plain": [
       "['ride_id',\n",
       " 'rideable_type',\n",
       " 'started_at',\n",
       " 'ended_at',\n",
       " 'start_station_name',\n",
       " 'start_station_id',\n",
       " 'end_station_name',\n",
       " 'end_station_id',\n",
       " 'start_lat',\n",
       " 'start_lng',\n",
       " 'end_lat',\n",
       " 'end_lng',\n",
       " 'member_casual',\n",
       " 'Unnamed: 0',\n",
       " 'date',\n",
       " 'avgTemp',\n",
       " '_merge']"
      ]
     },
     "execution_count": 17,
     "metadata": {},
     "output_type": "execute_result"
    }
   ],
   "source": [
    "df.columns.tolist()\n"
   ]
  },
  {
   "cell_type": "code",
   "execution_count": 5,
   "id": "2cfa24a3",
   "metadata": {},
   "outputs": [
    {
     "data": {
      "text/html": [
       "<div>\n",
       "<style scoped>\n",
       "    .dataframe tbody tr th:only-of-type {\n",
       "        vertical-align: middle;\n",
       "    }\n",
       "\n",
       "    .dataframe tbody tr th {\n",
       "        vertical-align: top;\n",
       "    }\n",
       "\n",
       "    .dataframe thead th {\n",
       "        text-align: right;\n",
       "    }\n",
       "</style>\n",
       "<table border=\"1\" class=\"dataframe\">\n",
       "  <thead>\n",
       "    <tr style=\"text-align: right;\">\n",
       "      <th></th>\n",
       "      <th>start_lat</th>\n",
       "      <th>start_lng</th>\n",
       "      <th>end_lat</th>\n",
       "      <th>end_lng</th>\n",
       "      <th>member_casual</th>\n",
       "    </tr>\n",
       "  </thead>\n",
       "  <tbody>\n",
       "    <tr>\n",
       "      <th>603141</th>\n",
       "      <td>40.717752</td>\n",
       "      <td>-74.043856</td>\n",
       "      <td>40.722104</td>\n",
       "      <td>-74.071455</td>\n",
       "      <td>member</td>\n",
       "    </tr>\n",
       "    <tr>\n",
       "      <th>336703</th>\n",
       "      <td>40.746503</td>\n",
       "      <td>-74.038114</td>\n",
       "      <td>40.750604</td>\n",
       "      <td>-74.024020</td>\n",
       "      <td>casual</td>\n",
       "    </tr>\n",
       "    <tr>\n",
       "      <th>793991</th>\n",
       "      <td>40.749943</td>\n",
       "      <td>-74.035865</td>\n",
       "      <td>40.754090</td>\n",
       "      <td>-74.031600</td>\n",
       "      <td>member</td>\n",
       "    </tr>\n",
       "    <tr>\n",
       "      <th>767329</th>\n",
       "      <td>40.716843</td>\n",
       "      <td>-74.032879</td>\n",
       "      <td>40.721124</td>\n",
       "      <td>-74.038051</td>\n",
       "      <td>member</td>\n",
       "    </tr>\n",
       "    <tr>\n",
       "      <th>748057</th>\n",
       "      <td>40.718089</td>\n",
       "      <td>-74.083355</td>\n",
       "      <td>40.718211</td>\n",
       "      <td>-74.083639</td>\n",
       "      <td>casual</td>\n",
       "    </tr>\n",
       "  </tbody>\n",
       "</table>\n",
       "</div>"
      ],
      "text/plain": [
       "        start_lat  start_lng    end_lat    end_lng member_casual\n",
       "603141  40.717752 -74.043856  40.722104 -74.071455        member\n",
       "336703  40.746503 -74.038114  40.750604 -74.024020        casual\n",
       "793991  40.749943 -74.035865  40.754090 -74.031600        member\n",
       "767329  40.716843 -74.032879  40.721124 -74.038051        member\n",
       "748057  40.718089 -74.083355  40.718211 -74.083639        casual"
      ]
     },
     "execution_count": 5,
     "metadata": {},
     "output_type": "execute_result"
    }
   ],
   "source": [
    "# Keep only relevant columns for mapping\n",
    "df_map = df[[\"start_lat\", \"start_lng\", \"end_lat\", \"end_lng\", \"member_casual\"]].dropna()\n",
    "\n",
    "# Optional: sample smaller subset (for faster performance)\n",
    "df_map = df_map.sample(n=5000, random_state=42)\n",
    "\n",
    "df_map.head()\n"
   ]
  },
  {
   "cell_type": "code",
   "execution_count": 6,
   "id": "b2b09bc7",
   "metadata": {},
   "outputs": [
    {
     "name": "stdout",
     "output_type": "stream",
     "text": [
      "User Guide: https://docs.kepler.gl/docs/keplergl-jupyter\n"
     ]
    },
    {
     "data": {
      "application/vnd.jupyter.widget-view+json": {
       "model_id": "faa58de6693444c9ab4e9b13401e7d95",
       "version_major": 2,
       "version_minor": 0
      },
      "text/plain": [
       "KeplerGl(data={'CitiBike Routes 2022': {'index': [603141, 336703, 793991, 767329, 748057, 628046, 387568, 4781…"
      ]
     },
     "execution_count": 6,
     "metadata": {},
     "output_type": "execute_result"
    }
   ],
   "source": [
    "# Initialize Kepler map\n",
    "map_2 = KeplerGl(height=600)\n",
    "\n",
    "# Add reduced CitiBike dataset\n",
    "map_2.add_data(data=df_map, name=\"CitiBike Routes 2022\")\n",
    "\n",
    "# Show map\n",
    "map_2\n"
   ]
  },
  {
   "cell_type": "code",
   "execution_count": 7,
   "id": "faa075eb",
   "metadata": {},
   "outputs": [
    {
     "name": "stdout",
     "output_type": "stream",
     "text": [
      "Map saved to ../temp_storage/citibike_routes_map.html!\n"
     ]
    }
   ],
   "source": [
    "# Export the map to an interactive HTML file\n",
    "map_2.save_to_html(file_name=\"../temp_storage/citibike_routes_map.html\")\n"
   ]
  },
  {
   "cell_type": "code",
   "execution_count": 8,
   "id": "a771a208",
   "metadata": {},
   "outputs": [
    {
     "name": "stdout",
     "output_type": "stream",
     "text": [
      "User Guide: https://docs.kepler.gl/docs/keplergl-jupyter\n"
     ]
    },
    {
     "data": {
      "application/vnd.jupyter.widget-view+json": {
       "model_id": "bb59548b212e4ff09302cef2e4f875cb",
       "version_major": 2,
       "version_minor": 0
      },
      "text/plain": [
       "KeplerGl(data={'Members Only': {'index': [603141, 793991, 767329, 387568, 489555, 404754, 245952, 392009, 5699…"
      ]
     },
     "execution_count": 8,
     "metadata": {},
     "output_type": "execute_result"
    }
   ],
   "source": [
    "df_members = df_map[df_map[\"member_casual\"] == \"member\"]\n",
    "\n",
    "map_3 = KeplerGl(height=600)\n",
    "map_3.add_data(data=df_members, name=\"Members Only\")\n",
    "map_3\n"
   ]
  },
  {
   "cell_type": "markdown",
   "id": "fdc1c732",
   "metadata": {},
   "source": [
    "### Summary\n",
    "\n",
    "By customizing the map’s layers, colors, and filters, I was able to highlight the most frequent bike routes in New York City.  \n",
    "The visualization showed clear clusters of activity in **Manhattan**, especially around Midtown and Downtown, where station density and commuter traffic are highest.  \n",
    "After reviewing the patterns, I exported the map as an interactive HTML file and pushed the notebook to the project’s GitHub repository.\n",
    "\n",
    "**Repository link:** [https://github.com/boukaskasbrahim/New-York-s-CitiBike-trips-in-2022](https://github.com/boukaskasbrahim/New-York-s-CitiBike-trips-in-2022)\n"
   ]
  }
 ],
 "metadata": {
  "kernelspec": {
   "display_name": "citibike2022",
   "language": "python",
   "name": "python3"
  },
  "language_info": {
   "codemirror_mode": {
    "name": "ipython",
    "version": 3
   },
   "file_extension": ".py",
   "mimetype": "text/x-python",
   "name": "python",
   "nbconvert_exporter": "python",
   "pygments_lexer": "ipython3",
   "version": "3.10.19"
  }
 },
 "nbformat": 4,
 "nbformat_minor": 5
}
