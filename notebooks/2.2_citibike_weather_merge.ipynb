{
 "cells": [
  {
   "cell_type": "code",
   "execution_count": 3,
   "id": "caf63b91",
   "metadata": {},
   "outputs": [],
   "source": [
    "import os\n",
    "import pandas as pd\n"
   ]
  },
  {
   "cell_type": "code",
   "execution_count": 8,
   "id": "43187d31",
   "metadata": {},
   "outputs": [
    {
     "name": "stdout",
     "output_type": "stream",
     "text": [
      "Shape: (895485, 14)\n"
     ]
    }
   ],
   "source": [
    "import zipfile\n",
    "import pandas as pd\n",
    "import os\n",
    "\n",
    "folderpath = r\"../data_raw/2022\"\n",
    "filepaths = [os.path.join(folderpath, name) for name in os.listdir(folderpath)]\n",
    "\n",
    "dfs = []\n",
    "\n",
    "for f in filepaths:\n",
    "    if f.endswith(\".zip\"):\n",
    "        with zipfile.ZipFile(f) as z:\n",
    "            csv_files = [name for name in z.namelist() if name.endswith(\".csv\")]\n",
    "            if len(csv_files) == 0:\n",
    "                print(f\"No CSV found in {f}\")\n",
    "                continue\n",
    "            with z.open(csv_files[0]) as my_file:\n",
    "                # 🔧 Fix: specify encoding fallback\n",
    "                dfs.append(pd.read_csv(my_file, encoding=\"utf-8\", on_bad_lines=\"skip\", low_memory=False))\n",
    "    else:\n",
    "        # 🔧 Fix here as well\n",
    "        dfs.append(pd.read_csv(f, encoding=\"utf-8\", on_bad_lines=\"skip\", low_memory=False))\n",
    "\n",
    "df = pd.concat(dfs, ignore_index=True)\n",
    "\n",
    "print(\"Shape:\", df.shape)\n",
    "\n"
   ]
  },
  {
   "cell_type": "code",
   "execution_count": 9,
   "id": "7841f3be",
   "metadata": {},
   "outputs": [],
   "source": [
    "Token = \"HnJYIWmbZvvBYxPTkxeJJHtFgAEPKCQK\"\n"
   ]
  },
  {
   "cell_type": "code",
   "execution_count": 10,
   "id": "63ef1a45",
   "metadata": {},
   "outputs": [],
   "source": [
    "import os\n",
    "Token = os.getenv(\"NOAA_TOKEN\")\n"
   ]
  },
  {
   "cell_type": "code",
   "execution_count": 13,
   "id": "019ada5c",
   "metadata": {},
   "outputs": [
    {
     "name": "stdout",
     "output_type": "stream",
     "text": [
      "/Users/boukaskasbrahim/Desktop/Newyork_citibike/notebooks\n"
     ]
    }
   ],
   "source": [
    "import os\n",
    "print(os.getcwd())\n"
   ]
  },
  {
   "cell_type": "code",
   "execution_count": 16,
   "id": "a176138a",
   "metadata": {},
   "outputs": [
    {
     "name": "stdout",
     "output_type": "stream",
     "text": [
      "Token loaded: True\n"
     ]
    }
   ],
   "source": [
    "from dotenv import load_dotenv\n",
    "import os\n",
    "\n",
    "# 👇 Explicitly tell dotenv to load from the parent directory\n",
    "load_dotenv(dotenv_path=\"../.env\")\n",
    "\n",
    "Token = os.getenv(\"NOAA_TOKEN\")\n",
    "print(\"Token loaded:\", bool(Token))\n"
   ]
  },
  {
   "cell_type": "code",
   "execution_count": null,
   "id": "2b54b7ac",
   "metadata": {},
   "outputs": [
    {
     "name": "stdout",
     "output_type": "stream",
     "text": [
      " Status code: 200\n",
      "Number of results: 365\n"
     ]
    }
   ],
   "source": [
    "import requests\n",
    "import json\n",
    "\n",
    "r = requests.get(\n",
    "    \"https://www.ncdc.noaa.gov/cdo-web/api/v2/data?\"\n",
    "    \"datasetid=GHCND&datatypeid=TAVG&limit=1000&\"\n",
    "    \"stationid=GHCND:USW00014739&startdate=2022-01-01&enddate=2022-12-31\",\n",
    "    headers={\"token\": Token}\n",
    ")\n",
    "\n",
    "d = json.loads(r.text)\n",
    "\n",
    "print(\" Status code:\", r.status_code)\n",
    "print(\"Number of results:\", len(d.get('results', [])))\n"
   ]
  },
  {
   "cell_type": "code",
   "execution_count": 19,
   "id": "4a1c1eb4",
   "metadata": {},
   "outputs": [
    {
     "data": {
      "text/html": [
       "<div>\n",
       "<style scoped>\n",
       "    .dataframe tbody tr th:only-of-type {\n",
       "        vertical-align: middle;\n",
       "    }\n",
       "\n",
       "    .dataframe tbody tr th {\n",
       "        vertical-align: top;\n",
       "    }\n",
       "\n",
       "    .dataframe thead th {\n",
       "        text-align: right;\n",
       "    }\n",
       "</style>\n",
       "<table border=\"1\" class=\"dataframe\">\n",
       "  <thead>\n",
       "    <tr style=\"text-align: right;\">\n",
       "      <th></th>\n",
       "      <th>date</th>\n",
       "      <th>avgTemp</th>\n",
       "    </tr>\n",
       "  </thead>\n",
       "  <tbody>\n",
       "    <tr>\n",
       "      <th>0</th>\n",
       "      <td>2022-01-01</td>\n",
       "      <td>7.7</td>\n",
       "    </tr>\n",
       "    <tr>\n",
       "      <th>1</th>\n",
       "      <td>2022-01-02</td>\n",
       "      <td>7.4</td>\n",
       "    </tr>\n",
       "    <tr>\n",
       "      <th>2</th>\n",
       "      <td>2022-01-03</td>\n",
       "      <td>-1.4</td>\n",
       "    </tr>\n",
       "    <tr>\n",
       "      <th>3</th>\n",
       "      <td>2022-01-04</td>\n",
       "      <td>-4.9</td>\n",
       "    </tr>\n",
       "    <tr>\n",
       "      <th>4</th>\n",
       "      <td>2022-01-05</td>\n",
       "      <td>2.8</td>\n",
       "    </tr>\n",
       "  </tbody>\n",
       "</table>\n",
       "</div>"
      ],
      "text/plain": [
       "        date  avgTemp\n",
       "0 2022-01-01      7.7\n",
       "1 2022-01-02      7.4\n",
       "2 2022-01-03     -1.4\n",
       "3 2022-01-04     -4.9\n",
       "4 2022-01-05      2.8"
      ]
     },
     "execution_count": 19,
     "metadata": {},
     "output_type": "execute_result"
    }
   ],
   "source": [
    "from datetime import datetime\n",
    "import pandas as pd\n",
    "\n",
    "# Filter only average temperature results\n",
    "avg_temps = [item for item in d['results'] if item['datatype'] == 'TAVG']\n",
    "\n",
    "# Extract the dates and temperature values\n",
    "dates_temp = [item['date'] for item in avg_temps]\n",
    "temps = [item['value'] for item in avg_temps]\n",
    "\n",
    "# Create a DataFrame\n",
    "df_temps = pd.DataFrame()\n",
    "df_temps['date'] = [datetime.strptime(d, \"%Y-%m-%dT%H:%M:%S\") for d in dates_temp]\n",
    "df_temps['avgTemp'] = [float(v)/10.0 for v in temps]  # convert tenths of °C to °C\n",
    "\n",
    "df_temps.head()\n"
   ]
  },
  {
   "cell_type": "code",
   "execution_count": 20,
   "id": "673f6885",
   "metadata": {},
   "outputs": [
    {
     "data": {
      "text/plain": [
       "_merge\n",
       "both          895485\n",
       "left_only          0\n",
       "right_only         0\n",
       "Name: count, dtype: int64"
      ]
     },
     "execution_count": 20,
     "metadata": {},
     "output_type": "execute_result"
    }
   ],
   "source": [
    "# Ensure started_at is in datetime format\n",
    "df['started_at'] = pd.to_datetime(df['started_at'])\n",
    "\n",
    "# Extract the date (without time) for each trip\n",
    "df['date'] = df['started_at'].dt.date\n",
    "\n",
    "# Convert df_temps date column to just the date (no time)\n",
    "df_temps['date'] = pd.to_datetime(df_temps['date']).dt.date\n",
    "\n",
    "# Merge both DataFrames by date\n",
    "df_merged = df.merge(df_temps, how='left', on='date', indicator=True)\n",
    "\n",
    "# Check merge result\n",
    "df_merged['_merge'].value_counts(dropna=False)\n"
   ]
  },
  {
   "cell_type": "code",
   "execution_count": 21,
   "id": "b47f2ec6",
   "metadata": {},
   "outputs": [
    {
     "data": {
      "text/html": [
       "<div>\n",
       "<style scoped>\n",
       "    .dataframe tbody tr th:only-of-type {\n",
       "        vertical-align: middle;\n",
       "    }\n",
       "\n",
       "    .dataframe tbody tr th {\n",
       "        vertical-align: top;\n",
       "    }\n",
       "\n",
       "    .dataframe thead th {\n",
       "        text-align: right;\n",
       "    }\n",
       "</style>\n",
       "<table border=\"1\" class=\"dataframe\">\n",
       "  <thead>\n",
       "    <tr style=\"text-align: right;\">\n",
       "      <th></th>\n",
       "      <th>ride_id</th>\n",
       "      <th>rideable_type</th>\n",
       "      <th>started_at</th>\n",
       "      <th>ended_at</th>\n",
       "      <th>start_station_name</th>\n",
       "      <th>start_station_id</th>\n",
       "      <th>end_station_name</th>\n",
       "      <th>end_station_id</th>\n",
       "      <th>start_lat</th>\n",
       "      <th>start_lng</th>\n",
       "      <th>end_lat</th>\n",
       "      <th>end_lng</th>\n",
       "      <th>member_casual</th>\n",
       "      <th>Unnamed: 0</th>\n",
       "      <th>date</th>\n",
       "      <th>avgTemp</th>\n",
       "      <th>_merge</th>\n",
       "    </tr>\n",
       "  </thead>\n",
       "  <tbody>\n",
       "    <tr>\n",
       "      <th>0</th>\n",
       "      <td>919C40A703A965D7</td>\n",
       "      <td>electric_bike</td>\n",
       "      <td>2022-04-15 15:02:20</td>\n",
       "      <td>2022-04-15 15:57:16</td>\n",
       "      <td>Pershing Field</td>\n",
       "      <td>JC024</td>\n",
       "      <td>Pershing Field</td>\n",
       "      <td>JC024</td>\n",
       "      <td>40.742677</td>\n",
       "      <td>-74.051789</td>\n",
       "      <td>40.742677</td>\n",
       "      <td>-74.051789</td>\n",
       "      <td>casual</td>\n",
       "      <td>NaN</td>\n",
       "      <td>2022-04-15</td>\n",
       "      <td>12.6</td>\n",
       "      <td>both</td>\n",
       "    </tr>\n",
       "    <tr>\n",
       "      <th>1</th>\n",
       "      <td>3B40831921DAD6C1</td>\n",
       "      <td>classic_bike</td>\n",
       "      <td>2022-04-08 10:20:55</td>\n",
       "      <td>2022-04-08 10:25:29</td>\n",
       "      <td>JC Medical Center</td>\n",
       "      <td>JC011</td>\n",
       "      <td>Grand St</td>\n",
       "      <td>JC102</td>\n",
       "      <td>40.716540</td>\n",
       "      <td>-74.049638</td>\n",
       "      <td>40.715178</td>\n",
       "      <td>-74.037683</td>\n",
       "      <td>member</td>\n",
       "      <td>NaN</td>\n",
       "      <td>2022-04-08</td>\n",
       "      <td>11.4</td>\n",
       "      <td>both</td>\n",
       "    </tr>\n",
       "    <tr>\n",
       "      <th>2</th>\n",
       "      <td>69C5C0766309F73D</td>\n",
       "      <td>electric_bike</td>\n",
       "      <td>2022-04-09 14:14:04</td>\n",
       "      <td>2022-04-09 14:18:51</td>\n",
       "      <td>Mama Johnson Field - 4 St &amp; Jackson St</td>\n",
       "      <td>HB404</td>\n",
       "      <td>Southwest Park - Jackson St &amp; Observer Hwy</td>\n",
       "      <td>HB401</td>\n",
       "      <td>40.743140</td>\n",
       "      <td>-74.040041</td>\n",
       "      <td>40.737551</td>\n",
       "      <td>-74.041664</td>\n",
       "      <td>member</td>\n",
       "      <td>NaN</td>\n",
       "      <td>2022-04-09</td>\n",
       "      <td>10.5</td>\n",
       "      <td>both</td>\n",
       "    </tr>\n",
       "    <tr>\n",
       "      <th>3</th>\n",
       "      <td>304B82055A1D4A24</td>\n",
       "      <td>classic_bike</td>\n",
       "      <td>2022-04-05 19:43:37</td>\n",
       "      <td>2022-04-05 19:51:14</td>\n",
       "      <td>Hoboken Terminal - Hudson St &amp; Hudson Pl</td>\n",
       "      <td>HB101</td>\n",
       "      <td>Marshall St &amp; 2 St</td>\n",
       "      <td>HB408</td>\n",
       "      <td>40.735938</td>\n",
       "      <td>-74.030305</td>\n",
       "      <td>40.740802</td>\n",
       "      <td>-74.042521</td>\n",
       "      <td>casual</td>\n",
       "      <td>NaN</td>\n",
       "      <td>2022-04-05</td>\n",
       "      <td>10.1</td>\n",
       "      <td>both</td>\n",
       "    </tr>\n",
       "    <tr>\n",
       "      <th>4</th>\n",
       "      <td>1CB760ECBCB08609</td>\n",
       "      <td>classic_bike</td>\n",
       "      <td>2022-04-17 11:25:26</td>\n",
       "      <td>2022-04-17 11:29:45</td>\n",
       "      <td>Mama Johnson Field - 4 St &amp; Jackson St</td>\n",
       "      <td>HB404</td>\n",
       "      <td>Mama Johnson Field - 4 St &amp; Jackson St</td>\n",
       "      <td>HB404</td>\n",
       "      <td>40.743140</td>\n",
       "      <td>-74.040041</td>\n",
       "      <td>40.743140</td>\n",
       "      <td>-74.040041</td>\n",
       "      <td>member</td>\n",
       "      <td>NaN</td>\n",
       "      <td>2022-04-17</td>\n",
       "      <td>7.8</td>\n",
       "      <td>both</td>\n",
       "    </tr>\n",
       "  </tbody>\n",
       "</table>\n",
       "</div>"
      ],
      "text/plain": [
       "            ride_id  rideable_type          started_at             ended_at  \\\n",
       "0  919C40A703A965D7  electric_bike 2022-04-15 15:02:20  2022-04-15 15:57:16   \n",
       "1  3B40831921DAD6C1   classic_bike 2022-04-08 10:20:55  2022-04-08 10:25:29   \n",
       "2  69C5C0766309F73D  electric_bike 2022-04-09 14:14:04  2022-04-09 14:18:51   \n",
       "3  304B82055A1D4A24   classic_bike 2022-04-05 19:43:37  2022-04-05 19:51:14   \n",
       "4  1CB760ECBCB08609   classic_bike 2022-04-17 11:25:26  2022-04-17 11:29:45   \n",
       "\n",
       "                         start_station_name start_station_id  \\\n",
       "0                            Pershing Field            JC024   \n",
       "1                         JC Medical Center            JC011   \n",
       "2    Mama Johnson Field - 4 St & Jackson St            HB404   \n",
       "3  Hoboken Terminal - Hudson St & Hudson Pl            HB101   \n",
       "4    Mama Johnson Field - 4 St & Jackson St            HB404   \n",
       "\n",
       "                             end_station_name end_station_id  start_lat  \\\n",
       "0                              Pershing Field          JC024  40.742677   \n",
       "1                                    Grand St          JC102  40.716540   \n",
       "2  Southwest Park - Jackson St & Observer Hwy          HB401  40.743140   \n",
       "3                          Marshall St & 2 St          HB408  40.735938   \n",
       "4      Mama Johnson Field - 4 St & Jackson St          HB404  40.743140   \n",
       "\n",
       "   start_lng    end_lat    end_lng member_casual Unnamed: 0        date  \\\n",
       "0 -74.051789  40.742677 -74.051789        casual        NaN  2022-04-15   \n",
       "1 -74.049638  40.715178 -74.037683        member        NaN  2022-04-08   \n",
       "2 -74.040041  40.737551 -74.041664        member        NaN  2022-04-09   \n",
       "3 -74.030305  40.740802 -74.042521        casual        NaN  2022-04-05   \n",
       "4 -74.040041  40.743140 -74.040041        member        NaN  2022-04-17   \n",
       "\n",
       "   avgTemp _merge  \n",
       "0     12.6   both  \n",
       "1     11.4   both  \n",
       "2     10.5   both  \n",
       "3     10.1   both  \n",
       "4      7.8   both  "
      ]
     },
     "execution_count": 21,
     "metadata": {},
     "output_type": "execute_result"
    }
   ],
   "source": [
    "df_merged.head()\n"
   ]
  },
  {
   "cell_type": "code",
   "execution_count": 22,
   "id": "815648f2",
   "metadata": {},
   "outputs": [
    {
     "name": "stdout",
     "output_type": "stream",
     "text": [
      " Merged data saved successfully!\n"
     ]
    }
   ],
   "source": [
    "df_merged.to_csv(\"../data_raw/citibike_weather_2022.csv\", index=False)\n",
    "print(\" Merged data saved successfully!\")\n"
   ]
  }
 ],
 "metadata": {
  "kernelspec": {
   "display_name": "citibike2022",
   "language": "python",
   "name": "python3"
  },
  "language_info": {
   "codemirror_mode": {
    "name": "ipython",
    "version": 3
   },
   "file_extension": ".py",
   "mimetype": "text/x-python",
   "name": "python",
   "nbconvert_exporter": "python",
   "pygments_lexer": "ipython3",
   "version": "3.10.19"
  }
 },
 "nbformat": 4,
 "nbformat_minor": 5
}
